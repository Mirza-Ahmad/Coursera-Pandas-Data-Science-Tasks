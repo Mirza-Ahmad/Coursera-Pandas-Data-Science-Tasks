{
 "cells": [
  {
   "cell_type": "code",
   "execution_count": 2,
   "metadata": {},
   "outputs": [
    {
     "data": {
      "text/plain": [
       "{'male': 0.009675583380762664, 'female': 0.0077918259335489565}"
      ]
     },
     "execution_count": 2,
     "metadata": {},
     "output_type": "execute_result"
    }
   ],
   "source": [
    "def chickenpox_by_sex():\n",
    " #counts male vaccinated and had chicken pox\n",
    "    import pandas as pd\n",
    "    import numpy as np\n",
    "    df = pd.read_csv('NISPUF17.csv', index_col=0)\n",
    "    df = df[[\"SEX\", \"HAD_CPOX\", \"P_NUMVRC\"]].dropna()\n",
    "    df = df[df[\"P_NUMVRC\"] > 0]\n",
    "    male_df = df[df[\"SEX\"] == 1]\n",
    "    female_df = df[df[\"SEX\"] == 2]\n",
    "    female_chickenpox = female_df[(female_df[\"HAD_CPOX\"] == 1) & (female_df[\"P_NUMVRC\"] >= 1)]\n",
    "    female_non_chickenpox = female_df[(female_df[\"HAD_CPOX\"] == 2) & (female_df[\"P_NUMVRC\"] >= 1)]\n",
    "    male_ratio = len(male_df[male_df[\"HAD_CPOX\"] == 1])/len(male_df[male_df[\"HAD_CPOX\"] == 2])\n",
    "    female_ratio = len(female_df[female_df[\"HAD_CPOX\"] == 1])/len(female_df[female_df[\"HAD_CPOX\"] == 2])\n",
    "    return {\"male\": male_ratio, \"female\": female_ratio}\n",
    "    return ratio_dict\n",
    "    raise NotImplementedError()\n",
    "chickenpox_by_sex()"
   ]
  },
  {
   "cell_type": "code",
   "execution_count": null,
   "metadata": {},
   "outputs": [],
   "source": []
  }
 ],
 "metadata": {
  "kernelspec": {
   "display_name": "Python 3.10.6 64-bit",
   "language": "python",
   "name": "python3"
  },
  "language_info": {
   "codemirror_mode": {
    "name": "ipython",
    "version": 3
   },
   "file_extension": ".py",
   "mimetype": "text/x-python",
   "name": "python",
   "nbconvert_exporter": "python",
   "pygments_lexer": "ipython3",
   "version": "3.10.6"
  },
  "orig_nbformat": 4,
  "vscode": {
   "interpreter": {
    "hash": "df514dd761dc553ca6910e3723cdaf5a7ddea37961d054cb7bce715e89d665d8"
   }
  }
 },
 "nbformat": 4,
 "nbformat_minor": 2
}

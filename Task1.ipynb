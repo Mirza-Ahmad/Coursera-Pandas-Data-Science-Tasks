{
 "cells": [
  {
   "cell_type": "code",
   "execution_count": 3,
   "metadata": {},
   "outputs": [
    {
     "data": {
      "text/plain": [
       "{'less than high school': 0.10202002459160373,\n",
       " 'high school': 0.172352011241876,\n",
       " 'more than high school but not college': 0.24588090637625154,\n",
       " 'college': 0.47974705779026877}"
      ]
     },
     "execution_count": 3,
     "metadata": {},
     "output_type": "execute_result"
    }
   ],
   "source": [
    "def proportion_of_education():\n",
    "    import pandas as pd\n",
    "    df = pd.read_csv('NISPUF17.csv', index_col=0)\n",
    "    EDUC1 = df['EDUC1'].value_counts(normalize=True)\n",
    "    mydict={ \"less than high school\": EDUC1.iloc[3],\n",
    "                    \"high school\": EDUC1.iloc[2],\n",
    "                    \"more than high school but not college\": EDUC1.iloc[1],\n",
    "                    \"college\": EDUC1.iloc[0]\n",
    "    }\n",
    "    return mydict\n",
    "    raise NotImplementedError()\n",
    "proportion_of_education()"
   ]
  }
 ],
 "metadata": {
  "kernelspec": {
   "display_name": "Python 3.10.6 64-bit",
   "language": "python",
   "name": "python3"
  },
  "language_info": {
   "codemirror_mode": {
    "name": "ipython",
    "version": 3
   },
   "file_extension": ".py",
   "mimetype": "text/x-python",
   "name": "python",
   "nbconvert_exporter": "python",
   "pygments_lexer": "ipython3",
   "version": "3.10.6"
  },
  "orig_nbformat": 4,
  "vscode": {
   "interpreter": {
    "hash": "df514dd761dc553ca6910e3723cdaf5a7ddea37961d054cb7bce715e89d665d8"
   }
  }
 },
 "nbformat": 4,
 "nbformat_minor": 2
}

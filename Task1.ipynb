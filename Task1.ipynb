{
 "cells": [
  {
   "cell_type": "code",
   "execution_count": 2,
   "metadata": {},
   "outputs": [
    {
     "data": {
      "text/plain": [
       "{'less than high school': 0.10202002459160373,\n",
       " 'high school': 0.172352011241876,\n",
       " 'more than high school but not college': 0.24588090637625154,\n",
       " 'college': 0.47974705779026877}"
      ]
     },
     "execution_count": 2,
     "metadata": {},
     "output_type": "execute_result"
    }
   ],
   "source": [
    "def proportion_of_education():\n",
    " import pandas as pd\n",
    " import numpy as np\n",
    " DataSet=pd.read_csv('NISPUF17.csv')\n",
    " col=DataSet['EDUC1']\n",
    " educ=np.sort(col.values)\n",
    " mydcit={\"less than high school\":0.2, \"high school\":0.4, \"more than high school but not college\":0.2, \"college\":0.2}\n",
    " n=len(educ)\n",
    " #update the values of the key\n",
    " mydcit[\"less than high school\"]=np.sum(educ==1)/n\n",
    " mydcit[\"high school\"]=np.sum(educ==2)/n  \n",
    " mydcit[\"more than high school but not college\"]=np.sum(educ==3)/n\n",
    " mydcit[\"college\"]=np.sum(educ==4)/n  \n",
    " return mydcit\n",
    " raise NotImplementedError()\n",
    "proportion_of_education()"
   ]
  }
 ],
 "metadata": {
  "kernelspec": {
   "display_name": "Python 3.10.6 64-bit",
   "language": "python",
   "name": "python3"
  },
  "language_info": {
   "codemirror_mode": {
    "name": "ipython",
    "version": 3
   },
   "file_extension": ".py",
   "mimetype": "text/x-python",
   "name": "python",
   "nbconvert_exporter": "python",
   "pygments_lexer": "ipython3",
   "version": "3.10.6"
  },
  "orig_nbformat": 4,
  "vscode": {
   "interpreter": {
    "hash": "df514dd761dc553ca6910e3723cdaf5a7ddea37961d054cb7bce715e89d665d8"
   }
  }
 },
 "nbformat": 4,
 "nbformat_minor": 2
}

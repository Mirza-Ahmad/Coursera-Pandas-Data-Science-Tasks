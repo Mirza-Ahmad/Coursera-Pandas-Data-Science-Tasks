{
 "cells": [
  {
   "cell_type": "code",
   "execution_count": 16,
   "metadata": {},
   "outputs": [
    {
     "data": {
      "text/plain": [
       "{1.5963945918878317, 1.8799187420058687}"
      ]
     },
     "execution_count": 16,
     "metadata": {},
     "output_type": "execute_result"
    }
   ],
   "source": [
    "def average_influenza_doses():\n",
    " import pandas as pd\n",
    " import numpy as np\n",
    " DataSet=pd.read_csv('NISPUF17.csv')\n",
    " cbf_lu1=DataSet[DataSet['CBF_01']==1]\n",
    " cbf_lu2=DataSet[DataSet['CBF_01']==2]\n",
    " AV_INF1=cbf_lu1['P_NUMFLU']\n",
    " AV_INF2=cbf_lu2['P_NUMFLU']\n",
    " mydict={AV_INF1.mean(), AV_INF2.mean()}\n",
    " return mydict\n",
    " raise NotImplementedError()\n",
    "average_influenza_doses()"
   ]
  }
 ],
 "metadata": {
  "kernelspec": {
   "display_name": "Python 3.10.6 64-bit",
   "language": "python",
   "name": "python3"
  },
  "language_info": {
   "codemirror_mode": {
    "name": "ipython",
    "version": 3
   },
   "file_extension": ".py",
   "mimetype": "text/x-python",
   "name": "python",
   "nbconvert_exporter": "python",
   "pygments_lexer": "ipython3",
   "version": "3.10.6"
  },
  "orig_nbformat": 4,
  "vscode": {
   "interpreter": {
    "hash": "df514dd761dc553ca6910e3723cdaf5a7ddea37961d054cb7bce715e89d665d8"
   }
  }
 },
 "nbformat": 4,
 "nbformat_minor": 2
}

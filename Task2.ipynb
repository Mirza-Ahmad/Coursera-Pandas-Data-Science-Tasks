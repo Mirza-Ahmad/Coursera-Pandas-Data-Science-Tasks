{
 "cells": [
  {
   "cell_type": "code",
   "execution_count": 2,
   "metadata": {},
   "outputs": [
    {
     "data": {
      "text/plain": [
       "(1.8799187420058687, 1.5963945918878317)"
      ]
     },
     "execution_count": 2,
     "metadata": {},
     "output_type": "execute_result"
    }
   ],
   "source": [
    "def average_influenza_doses():\n",
    " import pandas as pd\n",
    " import numpy as np\n",
    " DataSet=pd.read_csv('NISPUF17.csv')\n",
    " cbu_flu=DataSet.loc[:,['CBF_01', 'P_NUMFLU']]\n",
    " cbf_flu1 = cbu_flu[cbu_flu['CBF_01'] == 1].dropna()\n",
    " cbf_flu2 = cbu_flu[cbu_flu['CBF_01'] == 2].dropna()\n",
    " flu1 = cbf_flu1['P_NUMFLU']\n",
    " f1 = flu1.sum() / flu1.size\n",
    " flu2 = cbf_flu2['P_NUMFLU']\n",
    " f2 = flu2.sum() / flu2.size\n",
    " return f1,f2\n",
    " raise NotImplementedError()\n",
    "average_influenza_doses()"
   ]
  }
 ],
 "metadata": {
  "kernelspec": {
   "display_name": "Python 3.10.6 64-bit",
   "language": "python",
   "name": "python3"
  },
  "language_info": {
   "codemirror_mode": {
    "name": "ipython",
    "version": 3
   },
   "file_extension": ".py",
   "mimetype": "text/x-python",
   "name": "python",
   "nbconvert_exporter": "python",
   "pygments_lexer": "ipython3",
   "version": "3.10.6"
  },
  "orig_nbformat": 4,
  "vscode": {
   "interpreter": {
    "hash": "df514dd761dc553ca6910e3723cdaf5a7ddea37961d054cb7bce715e89d665d8"
   }
  }
 },
 "nbformat": 4,
 "nbformat_minor": 2
}
